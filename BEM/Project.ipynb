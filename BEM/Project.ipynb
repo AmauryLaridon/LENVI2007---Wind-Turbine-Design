{
 "cells": [
  {
   "cell_type": "markdown",
   "metadata": {},
   "source": [
    "---\n",
    "\n",
    "# Explanation of the Blade Element Theory (BEM) algorithm and Application on a 15MW Wind Turbine\n",
    "\n",
    "---\n",
    "\n",
    "**Author: Chung Anthony, Gouders Louis, Lambotte Augustin, Laridon Amaury**\n",
    "\n",
    "**Goal**: This notebook is used in order to understand and explain with our own cords the BEM algorithm delivered for the Wind Turbine Project of the LENVI2007 course. \n",
    "\n",
    "In this notebook we copy the BEM.py script writen by Romain Debroeyer and we seperate it into differents parts in order to explain step by step the main procedures. The main reference for explaining the BEM is the *AeroDyn Theory Manual* (Moriarty and Hansen 2005) textbook.\n",
    "\n",
    "---"
   ]
  },
  {
   "cell_type": "markdown",
   "metadata": {},
   "source": [
    "## What is the Blade Element Theory ? \n",
    "\n",
    "### Concept and goal\n",
    "\n",
    "The Blade Element Theory (BEM) is used to predict the aerodynamics of horizontal axis wind turbines and calculate the effect of wind turbine wakes. The method is also used to calculate the axial induced velocities from the wake in the rotor plane. BEM is the classical standard used by many wind turbine designers and is one of the oldest and most commonly used methods for calculating induced velocities on wind turbine blades.\n",
    "\n",
    "The BEM theory, generally attributed to Betz and Glauert (1935), actually originates from two different theories: blade element theory and momentum theory (see Leishman 2000). \n",
    "\n",
    "- Blade element theory assumes that blades can be divided into small elements that act independently of surrounding elements and operate aerodynamically as two-dimensional airfoils whose aerodynamic forces can be calculated based on the local flow conditions. These elemental forces are summed along the span of the blade to calculate the total forces and moments exerted on the turbine. \n",
    "\n",
    "- The other half of BEM, the momentum theory, assumes that the loss of pressure or momentum in the rotor plane is caused by the work done by the airflow passing through the rotor plane on the blade elements. Using the momentum theory, one can calculate the induced velocities from the momentum lost in the flow in the axial and tangential directions. These induced velocities affect the inflow in the rotor plane and therefore also affect the forces calculated by blade element theory. This coupling of two theories ties together blade element momentum theory and sets up an iterative process to determine the aerodynamic forces and also the induced velocities near the rotor\n",
    "\n",
    "The advantage of the BEM theory is that each blade element is modeled as a two-dimensional airfoil.\n",
    "\n",
    "### Limitations\n",
    "\n",
    "Because of its simplicity, BEM theory does have its limitations. \n",
    "\n",
    "- One primary assumption is that the calculations are static; it is assumed that the airflow field around the airfoil is always in equilibrium and that the passing flow accelerates instantaneously to adjust to the changes in the vorticity in the wake. In practice, it has been shown that the airfoil response takes time to adjust to a changing wake resulting from new inflow or turbine operating conditions (Snel and Schepers 1995).\n",
    "\n",
    "- One other limitation is that BEM theory breaks down when the blades experience large deflections out of the rotor plane. Because the theory assumes that momentum is balanced in a plane parallel to the rotor, any deflections of the rotor will lead to errors in the aerodynamic modeling.\n",
    "\n",
    "- Another limitation of BEM theory comes from blade element theory. This theory is based on the assumption that the forces acting on the blade element are essentially two-dimensional, meaning that spanwise flow is neglected. This assumption also implies that there is very little spanwise pressure variation (which would create spanwise flow), and the theory is therefore less accurate for heavily loaded rotors with large pressure gradients across the span.\n",
    "\n",
    "- Some other limitations of the original theory include no modeling of tip or hub vortex influence on the induced velocities and an inability to account for skewed inflow. These tip vortices create multiple helical structures in the wake and they play a major role in the induced velocity distribution at the rotor. The effect on induced velocity in the rotor plane is most pronounced near the tips of the blades, an area that also has the greatest influence on the power produced by the turbine.\n",
    "\n",
    "- Another limitation of the BEM theory is that when the induction factor is greater than about 0.4, the basic theory becomes invalid. This occurs with turbines operating at high tip speed ratios (e.g. constant speed turbine at low wind speeds), as the rotor enters what is known as the turbulent wake state $(a > 0.5).$\n",
    "\n",
    "\n",
    "---\n",
    "## Analysis and explanation of the BEM script\n",
    "Libraries "
   ]
  },
  {
   "cell_type": "code",
   "execution_count": 13,
   "metadata": {},
   "outputs": [],
   "source": [
    "# -*- coding: utf-8 -*-\n",
    "\"\"\"\n",
    "Created on November 15 2022\n",
    "\n",
    "@author: Romain Debroeyer\n",
    "\"\"\"\n",
    "\n",
    "import numpy as np\n",
    "import scipy.interpolate as sp"
   ]
  },
  {
   "cell_type": "markdown",
   "metadata": {},
   "source": [
    "### BEM function \n",
    "\n",
    "#### What is it used for ? \n",
    "**This is the main function of the BEM algorithm.** \n",
    "\n",
    "It **takes as entry** the **wind speed, the angular velocity of the blade, the pitch, the chord, the number of blades** for the wind turbine consider and lastly the relevant data with respect to the **specific airfoils consider.** \n",
    "\n",
    "The **algorithm is used to compute** and deliver the **Thrust (T), the Torque (Q) and the Power (P)** for the total wind turbine given the specific inputs. \n",
    "\n",
    "The BEM algorithm computes the contribution to the force and the torque** based on the force on the airfoil and the equals it with the contribution to the force and torque based on the momentum balance. \n",
    "\n",
    "It **computes the Thrust and Torque for every for every discrete element of the blade and then integrate it** along the entire length of the blade.\n",
    "\n",
    "#### Technical description\n",
    "\n",
    "Here we will explained the script in details. We will refer to the lines of codes for more clarity. \n",
    "\n",
    "- **Parameters**\n",
    "    - **U**, **pitch** and **Omega** are float value: **pitch** and **omega** are the prescribed pitch angle and angular speed for the corresponding wind speed value **U**\n",
    "\n",
    "    - **r**, **twist**, **chord** and **airfoil** are list of the same length\n",
    "        \n",
    "        - **twist** and **chord** are the twisting value and the chord lenght of the element of the blade located at a distance **r** of the center\n",
    "        \n",
    "        - **airfoil** is the profile of the airfoil at distance **r** : It's refering to the .dat files. In these file the value of C_l and C_d are given (second and third raws) depending of the attack angle (first raw). These value will be interpolated using getInterpolator function.\n",
    "\n",
    "    - **B** is an integer: number of blade.\n",
    "\n",
    "    \n",
    "    \n",
    "- **Line 3 to line 13 are parameters definition and instancing.** \n",
    "\n",
    "    - Line 3 is a conversation of the pitch angle from degres to radian. \n",
    "    \n",
    "    - Line 4 define the number of discrete steps of integration based on the number of discrete segments of the blade on which will be computed the quantities. \n",
    "\n",
    "    - Line 6 and 7 defines the vectors that will contains the values of $a$ and $a'$.\n",
    "\n",
    "    - Line 9 defines $\\omega$ DON'T UNDERSTAND IT\n",
    "\n",
    "    - Line 10 and 11 are parameters for the integration, the maximum number of iteration at the tolerance of error threshold. \n",
    "\n",
    "    - Line 13 defines the density of the air. \n",
    "\n",
    "- **Line 14 to 38 is the main BEM algorithm:**\n",
    "\n",
    "    - **Objectif of this loop**\n",
    "    \n",
    "         Compute a and a' for each blade element - iteration is over the length of r list\n",
    "\n",
    "    - **Main idea**\n",
    "\n",
    "        Starting by taking $a$ and $a'$ at zeros, meaning no wind deviation, we compute the thrust and torque effect. These one modify the air circulation and hence $a$ and $a'$, which in turn modify the torque and thrust effect,... This computation is done iteratively until the difference is smaller than the tolerence (tol param) \n",
    "    - **Detail**\n",
    "\n",
    "        - Line 15: create interpolator for C_l and C_d: given an angle of attack in radians they return the interpolated C_l and C_d - c_l = clinterp(alpha)\n",
    "        \n",
    "        - Line 16: is a conversation of the twist angle from degree to radian.\n",
    "\n",
    "        - Line 18: initialisation of xnew = [0,0]. These are the first value of a and a'. \n",
    "\n",
    "        - Line 21: computation of $a_{new}$ and $a'_{new}$ using the function f.\n",
    "\n",
    "        - Line 24: $a^{(')}_k = (1-\\Omega) a^{(')}_{old} + \\Omega a^{(')}_{new}$ **WHY??**"
   ]
  },
  {
   "cell_type": "code",
   "execution_count": 14,
   "metadata": {},
   "outputs": [
    {
     "name": "stdout",
     "output_type": "stream",
     "text": [
      "No convergence for airfoil NACA64_A17 at wind speed 3 m/s - residual is 6.52e-01\n",
      "No convergence for airfoil NACA64_A17 at wind speed 3 m/s - residual is 1.21e-01\n",
      "No convergence for airfoil NACA64_A17 at wind speed 3 m/s - residual is 1.07e+00\n",
      "No convergence for airfoil NACA64_A17 at wind speed 3 m/s - residual is 1.84e-01\n",
      "No convergence for airfoil NACA64_A17 at wind speed 3 m/s - residual is 1.76e-01\n",
      "No convergence for airfoil NACA64_A17 at wind speed 3 m/s - residual is 5.08e+00\n"
     ]
    }
   ],
   "source": [
    "def f(x,U,Omega,r,B,c,clinterp,cdinterp,beta,pitch):\n",
    "    # system of equations to be solved\n",
    "    # x[0] = a\n",
    "    # x[1] = a'\n",
    "    y = np.copy(x)\n",
    "    yaxis = U * (1-x[0])\n",
    "    xaxis = Omega*r*(1+x[1])\n",
    "    phi  = np.arctan2(yaxis,xaxis)\n",
    "\n",
    "    alpha = phi - beta - pitch\n",
    "\n",
    "    cl = clinterp(alpha)\n",
    "    cd = cdinterp(alpha)\n",
    "    cN = cl*np.cos(phi)+cd*np.sin(phi)\n",
    "    cT = cl*np.sin(phi)-cd*np.cos(phi)\n",
    "    \n",
    "    V_res = np.sqrt((U*(1-x[0]))**2 + (Omega * r * (1+x[1]))**2)\n",
    "\n",
    "    dT = B * 0.5 * V_res**2 * (cl * np.cos(phi) + cd * np.sin(phi)) * c  # We omit rho and dr in these two equations, because they will be canceled out in the fraction below \n",
    "    dQ = B * 0.5 * V_res**2 * (cl * np.sin(phi) - cd * np.cos(phi)) * c * r\n",
    "\n",
    "    y[0] = dT / (4*np.pi*r*U**2*(1-x[0])) # rho and dr are absent from these two fractions, because they cancel out at the numerator and denominator\n",
    "    y[1] = dQ / (4*np.pi*r**3*U*(1-x[0])*Omega)\n",
    "\n",
    "    return y\n",
    "\n",
    "def getInterpolator(airfoilName):\n",
    "    \"\"\"\n",
    "    \n",
    "    Parameters\n",
    "    ----------\n",
    "    airfoilName : String\n",
    "        Name of the airfoil - must correspond to the .dat filename of the polar, without the extension\n",
    "\n",
    "    Returns\n",
    "    -------\n",
    "    cl_interp : \n",
    "        interpolator for the lift coefficient. Its argument is the angle of attack (alpha) angle \n",
    "    cd_interp : TYPE\n",
    "        interpolator for the drag coefficient. Its argument is the angle of attack (alpha) angle \n",
    "\n",
    "    \"\"\"\n",
    "    f = open(airfoilName+\".dat\")    \n",
    "    lines = f.readlines()    \n",
    "\n",
    "    angle = np.zeros(0)\n",
    "    cl = np.zeros(0)\n",
    "    cd = np.zeros(0)\n",
    "\n",
    "    index = 0\n",
    "    startindex = 100    \n",
    "    for line in lines:\n",
    "        data = line.split()\n",
    "        if len(data) > 0 and data[0] == '-180.00':\n",
    "            startindex = index\n",
    "        if index >= startindex and len(data)>0:\n",
    "            angle = np.append(angle,float(data[0])* np.pi/180) \n",
    "            cl = np.append(cl,float(data[1]))\n",
    "            cd = np.append(cd,float(data[2])) \n",
    "\n",
    "        index += 1\n",
    "    cl_interp = sp.interp1d(angle,cl)\n",
    "    cd_interp = sp.interp1d(angle,cd)\n",
    "\n",
    "    return cl_interp,cd_interp\n",
    "\n",
    "def BEM(U, Omega, pitch, r, twist, chord, B, airfoils):\n",
    "    \n",
    "    pitch *= np.pi / 180\n",
    "    n =  len(r)\n",
    "    \n",
    "    a = np.zeros(n)\n",
    "    ap = np.zeros(n)\n",
    "    \n",
    "    omega = 0.3\n",
    "    iter_max = 150\n",
    "    tol = 1e-12\n",
    "    \n",
    "    rho = 1.225\n",
    "    for i in range(n):\n",
    "        clinterp,cdinterp = getInterpolator(airfoils[i])\n",
    "        beta = twist[i] * np.pi / 180\n",
    "        \n",
    "        xk_1 = np.array((a[i],ap[i])) # = [0,0]\n",
    "\n",
    "        iiter = 0\n",
    "        xnew = f(xk_1,U,Omega,r[i],B,chord[i],clinterp,cdinterp,beta,pitch)\n",
    "        xk = np.copy(xnew)\n",
    "        for j in (0,1):\n",
    "            xk[j] = (1-omega)*xk_1[j] + omega*xnew[j]\n",
    "            \n",
    "        while (abs(xk[0]-xk_1[0])>tol and abs(xk[1]-xk_1[1])>tol and iiter<iter_max):\n",
    "            xk_1 = np.copy(xk)\n",
    "            xnew = f(xk_1,U,Omega,r[i],B,chord[i],clinterp,cdinterp,beta,pitch)\n",
    "            for j in (0,1):\n",
    "                xk[j] = (1-omega)*xk_1[j] + omega*xnew[j]           \n",
    "            iiter = iiter + 1\n",
    "            \n",
    "        if(iiter==iter_max):\n",
    "            print('No convergence for airfoil ' + airfoils[i] +' at wind speed {:d} m/s - residual is {:.2e}'.format(U,max(abs(xk[0]-xk_1[0]),abs(xk[1]-xk_1[1]))))\n",
    "            xk[0] = 0\n",
    "            xk[1] = 0\n",
    "            \n",
    "        a[i] = xk[0]\n",
    "        ap[i] = xk[1]\n",
    "    dT = 4*np.pi*r*rho * U**2 * (1-a) * a\n",
    "    dQ = 4*np.pi*r**3*rho*U*(1-a)*ap*Omega\n",
    "    T = np.trapz(dT,r)\n",
    "    Q = np.trapz(dQ,r)\n",
    "\n",
    "    P = Omega * Q\n",
    "\n",
    "    return T,Q,P\n",
    "\n",
    "def test():\n",
    "    \n",
    "    # global parameters of the turbine \n",
    "    U = 3\n",
    "    rpm = 7\n",
    "    pitch = 0\n",
    "    Omega = rpm * 2 * np.pi/60\n",
    "\n",
    "    # blade data  \n",
    "    B = 3\n",
    "    r =  np.array([2.8667,5.6,8.3333,11.75,15.85,19.95,24.05,28.15,32.25,36.35,40.45,44.55,48.65,52.75,56.1667,58.9,61.6333])\n",
    "    twist =  np.array([13.308,13.308,13.308,13.308,11.48,10.162,9.011,7.795,6.544,5.361,4.188,3.125,2.319,1.526,0.863,0.37,0.106])\n",
    "    chord =  np.array([3.542,3.854,4.167,4.557,4.652,4.458,4.249,4.007,3.748,3.502,3.256,3.01,2.764,2.518,2.313,2.086,1.419])\n",
    "\n",
    "    airfoils = [\"Cylinder1\",\"Cylinder1\",\"Cylinder2\",\"DU40_A17\",\"DU35_A17\",\"DU35_A17\",\"DU30_A17\",\"DU25_A17\",\"DU25_A17\",\"DU21_A17\",\"DU21_A17\",\"NACA64_A17\",\"NACA64_A17\",\"NACA64_A17\",\"NACA64_A17\",\"NACA64_A17\",\"NACA64_A17\"]\n",
    "\n",
    "    \n",
    "    _,_,P = BEM(U,Omega,pitch,r,twist,chord,B,airfoils)\n",
    "\n",
    "test()"
   ]
  },
  {
   "cell_type": "markdown",
   "metadata": {},
   "source": [
    "### Solver\n",
    "#### Main idea\n",
    "For a given blade element and a given value of the wind deviation induced by the turbine ($a$ and $a'$) we compute the thrust and the torque exerced on this blade element using eq [3] and eq [4] in ref *ad-theory.pdf*. \n",
    "\\begin{equation}\n",
    "\\begin{split}\n",
    "&dT = B \\frac{1}{2} \\rho V^2_{total}(C_l cos\\phi + C_d sin\\phi)c\\ dr\\\\\n",
    "&dQ = B \\frac{1}{2} \\rho V^2_{total}(C_l sin\\phi - C_d cos\\phi)cr\\ dr\n",
    "\\end{split}\n",
    "\\end{equation}\n",
    "In turn, these torque and thrust modify the air circulation in the vicinity of the turbine which modify $a$ and $a'$ followind eq [5] and [6] in the same reference.\n",
    "\\begin{equation}\n",
    "\\begin{split}\n",
    "& a_{new} = \\frac{dT}{4 \\pi r \\rho U^2_\\infty (1 - a_{old}) dr}\\\\\n",
    "& a'_{new} = \\frac{dQ}{4 \\pi r^3 U_\\infty \\Omega (1 - a_{old}) dr}\n",
    "\\end{split}\n",
    "\\end{equation}\n",
    "**Problem** *Here this is indeed the equations used in the code but the inversion of eq[5] in the ref to produce the equation of $a_{new}$ above isn't correct. I had to choose one of the $a$ as $a_{old}$, and an other as $a_{new}$ in eq[5]. I missed something...*\n",
    "\n",
    "\n",
    "**Possible explanation** This could be because When we take the equations from ENVI_2007_General_Intro_2023.pdf for $dT$ and $dQ$ we have\n",
    "\\begin{equation}\n",
    "\\begin{split}\n",
    "&dT = \\underbrace{2\\pi r dr \\rho U_{\\infty} (1-a)}_{old} \\underbrace{(U_\\infty - U_{wake})}_{new}\\\\\n",
    "&dQ = \\underbrace{2\\pi r dr \\rho U_{\\infty} (1-a)}_{old} \\underbrace{2a'\\Omega r^2}_{new}\n",
    "\\end{split}\n",
    "\\end{equation}\n",
    "If we replace $U_{wake}$ by its expression depending on $a$ and if we consider the $a$ over \"*old*\" as $a_{old}$ and the $a$ and $a'$ over \"*new*\" as $a_{new}$ and $a'_{new}$ we are good. It can be physically justified because the first part of the equations are the wind incoming which didn't had the time to adjust and the left part of the equations represent the air movement in the turbine that adjust directly with the modification of thrust and torque.\n",
    "#### parameters\n",
    "- x is a list of length 2, $x[0] = a_{old}$ and $x[1] = a'_{old}$\n",
    "#### Technical description\n",
    "\n",
    "- Line 6 to 10 compute the angle of attack alpha and the local inflow angle phi\n",
    "    - yaxis is the wind component perpendicular to the rotation plane\n",
    "    - xaxis is the wind component parallel to the rotation plane\n",
    "\n",
    "- Line 12 and 13 use the interpolation function to interpolate the value of cl and cd for the given angle of attack alpha\n",
    "\n",
    "- Line 17 compute the total wind (V_res in the code = V_tot in the references), could be simplified as V_res = np.sqrt(xaxis^2 + yaxis^2) \n",
    "\n",
    "- Line 19 and 20 compute the element of thrust and torque as equations [3] and [4] in ref *ad-theory.pdf*\n",
    "\n",
    "- Line 22 and 23 inverse the equations [5] and [6] in the same ref.\n"
   ]
  },
  {
   "cell_type": "code",
   "execution_count": 15,
   "metadata": {},
   "outputs": [],
   "source": [
    "\n",
    "def f(x,U,Omega,r,B,c,clinterp,cdinterp,beta,pitch):\n",
    "# system of equations to be solved\n",
    "# x[0] = a\n",
    "# x[1] = a'\n",
    "    y = np.copy(x)\n",
    "    yaxis = U * (1-x[0])\n",
    "    xaxis = Omega*r*(1+x[1])\n",
    "    phi  = np.arctan2(yaxis,xaxis)\n",
    "\n",
    "    alpha = phi - beta - pitch\n",
    "\n",
    "    cl = clinterp(alpha)\n",
    "    cd = cdinterp(alpha)\n",
    "    cN = cl*np.cos(phi)+cd*np.sin(phi)\n",
    "    cT = cl*np.sin(phi)-cd*np.cos(phi)\n",
    "    \n",
    "    V_res = np.sqrt((U*(1-x[0]))**2 + (Omega * r * (1+x[1]))**2)\n",
    "\n",
    "    dT = B * 0.5 * V_res**2 * (cl * np.cos(phi) + cd * np.sin(phi)) * c  # We omit rho and dr in these two equations, because they will be canceled out in the fraction below \n",
    "    dQ = B * 0.5 * V_res**2 * (cl * np.sin(phi) - cd * np.cos(phi)) * c * r\n",
    "\n",
    "    y[0] = dT / (4*np.pi*r*U**2*(1-x[0])) # rho and dr are absent from these two fractions, because they cancel out at the numerator and denominator\n",
    "    y[1] = dQ / (4*np.pi*r**3*U*(1-x[0])*Omega)\n",
    "\n",
    "    return y"
   ]
  },
  {
   "cell_type": "markdown",
   "metadata": {},
   "source": [
    "### Interpolator\n",
    "\n",
    "The .dat files are filled with data giving the C_l (second raw in the .dat), c_d (third raw) in function of the attack angle (first raw, from -180° to 180°).\n",
    "\n",
    "This function download these data and construct two interpolators **cl_interp** and **cd_interp**.\n",
    "\n",
    "#### Usage : \n",
    "if we want to know cl for a given angle of attack alpha and a given air foil name:\n",
    "- cl_interp, cd_itnerp = getInterpolator('airfoilname')\n",
    "    \n",
    "- cl = cl_interp(alpha)    **with alpha in radians**"
   ]
  },
  {
   "cell_type": "code",
   "execution_count": 16,
   "metadata": {},
   "outputs": [],
   "source": [
    "def getInterpolator(airfoilName):\n",
    "    \"\"\"\n",
    "    \n",
    "    Parameters\n",
    "    ----------\n",
    "    airfoilName : String\n",
    "        Name of the airfoil - must correspond to the .dat filename of the polar, without the extension\n",
    "\n",
    "    Returns\n",
    "    -------\n",
    "    cl_interp : \n",
    "        interpolator for the lift coefficient. Its argument is the angle of attack (alpha) angle \n",
    "    cd_interp : TYPE\n",
    "        interpolator for the drag coefficient. Its argument is the angle of attack (alpha) angle \n",
    "\n",
    "    \"\"\"\n",
    "    f = open(airfoilName+\".dat\")    \n",
    "    lines = f.readlines()    \n",
    "\n",
    "    angle = np.zeros(0)\n",
    "    cl = np.zeros(0)\n",
    "    cd = np.zeros(0)\n",
    "\n",
    "    index = 0\n",
    "    startindex = 100    \n",
    "    for line in lines:\n",
    "        data = line.split()\n",
    "        if len(data) > 0 and data[0] == '-180.00':\n",
    "            startindex = index\n",
    "        if index >= startindex and len(data)>0:\n",
    "            angle = np.append(angle,float(data[0])* np.pi/180) \n",
    "            cl = np.append(cl,float(data[1]))\n",
    "            cd = np.append(cd,float(data[2])) \n",
    "\n",
    "        index += 1\n",
    "    cl_interp = sp.interp1d(angle,cl)\n",
    "    cd_interp = sp.interp1d(angle,cd)\n",
    "    \n",
    "    return cl_interp,cd_interp"
   ]
  },
  {
   "cell_type": "markdown",
   "metadata": {},
   "source": [
    "Other function"
   ]
  },
  {
   "cell_type": "code",
   "execution_count": 17,
   "metadata": {},
   "outputs": [],
   "source": [
    "def clcd(clinterp,cdinterp,alpha):\n",
    "    return clinterp(alpha),cdinterp(alpha)"
   ]
  },
  {
   "cell_type": "markdown",
   "metadata": {},
   "source": [
    "---\n",
    "\n",
    "## Application example on a NREL 5MW Wind Turbine\n",
    "\n",
    "Script from Romain Debroeyer\n",
    "\n",
    "---"
   ]
  },
  {
   "cell_type": "code",
   "execution_count": 18,
   "metadata": {},
   "outputs": [],
   "source": [
    "#!/usr/bin/env python3\n",
    "# -*- coding: utf-8 -*-\n",
    "\"\"\"\n",
    "Created on November 15 2022\n",
    "\n",
    "@author: Romain Debroeyer\n",
    "\"\"\"\n",
    "\n",
    "import matplotlib.pyplot as plt"
   ]
  },
  {
   "cell_type": "code",
   "execution_count": 19,
   "metadata": {},
   "outputs": [
    {
     "name": "stdout",
     "output_type": "stream",
     "text": [
      "No convergence for airfoil NACA64_A17 at wind speed 3 m/s - residual is 6.52e-01\n",
      "No convergence for airfoil NACA64_A17 at wind speed 3 m/s - residual is 1.21e-01\n",
      "No convergence for airfoil NACA64_A17 at wind speed 3 m/s - residual is 1.07e+00\n",
      "No convergence for airfoil NACA64_A17 at wind speed 3 m/s - residual is 1.84e-01\n",
      "No convergence for airfoil NACA64_A17 at wind speed 3 m/s - residual is 1.76e-01\n",
      "No convergence for airfoil NACA64_A17 at wind speed 3 m/s - residual is 5.08e+00\n",
      "24.279383850618192\n",
      "No convergence for airfoil NACA64_A17 at wind speed 4 m/s - residual is 1.61e-02\n",
      "No convergence for airfoil NACA64_A17 at wind speed 4 m/s - residual is 4.85e-02\n",
      "No convergence for airfoil NACA64_A17 at wind speed 4 m/s - residual is 7.16e-02\n",
      "No convergence for airfoil NACA64_A17 at wind speed 4 m/s - residual is 6.80e-02\n",
      "No convergence for airfoil NACA64_A17 at wind speed 4 m/s - residual is 1.63e-01\n",
      "109.6970545253914\n",
      "No convergence for airfoil NACA64_A17 at wind speed 5 m/s - residual is 7.40e-03\n",
      "No convergence for airfoil NACA64_A17 at wind speed 5 m/s - residual is 2.26e-02\n",
      "354.95826080057736\n",
      "805.940190176981\n",
      "1322.2588625119308\n",
      "1978.1125968935169\n",
      "2815.6015731812463\n",
      "3864.1801060348216\n",
      "5098.691015317908\n",
      "5480.8474898225495\n",
      "5409.085968207343\n",
      "5366.484231830029\n",
      "5376.680984002272\n",
      "5368.741684011704\n",
      "5372.588723250729\n",
      "5390.468038663647\n",
      "5398.503517731672\n",
      "5421.966081787464\n",
      "5405.565168221592\n",
      "5322.038794262553\n",
      "5148.76729138231\n",
      "5008.317891721336\n",
      "4885.622084702855\n"
     ]
    },
    {
     "data": {
      "text/plain": [
       "Text(0, 0.5, '$P$ $[kW]$')"
      ]
     },
     "execution_count": 19,
     "metadata": {},
     "output_type": "execute_result"
    },
    {
     "data": {
      "image/png": "[encoded data removed]",
      "text/plain": [
       "<Figure size 640x480 with 1 Axes>"
      ]
     },
     "metadata": {},
     "output_type": "display_data"
    }
   ],
   "source": [
    "# global parameters of the turbine \n",
    "U = np.array([3,4,5,6,7, 8, 9, 10, 11, 12, 13, 14, 15, 16, 17, 18, 19, 20, 21, 22, 23, 24, 25]  )\n",
    "rpm = np.array([7, 7.2, 7.5, 8, 8.5, 9.1, 10.2, 11.4, 11.9, 12.1, 12.1, 12.1, 12.1, 12.1, 12.1, 12.1, 12.1, 12.1, 12.1, 12.1, 12.1, 12.1, 12.1 ])\n",
    "pitch = np.array([0, 0, 0, 0, 0, 0, 0, 0, 0, 3.83, 6.60, 8.70, 10.45, 12.06, 13.54, 14.92, 16.23, 17.47, 18.70, 19.94, 21.18, 22.35, 23.47])\n",
    "Omega = rpm * 2 * np.pi/60\n",
    "\n",
    "# blade data  \n",
    "B = 3\n",
    "r =  np.array([2.8667,5.6,8.3333,11.75,15.85,19.95,24.05,28.15,32.25,36.35,40.45,44.55,48.65,52.75,56.1667,58.9,61.6333])\n",
    "twist =  np.array([13.308,13.308,13.308,13.308,11.48,10.162,9.011,7.795,6.544,5.361,4.188,3.125,2.319,1.526,0.863,0.37,0.106])\n",
    "chord =  np.array([3.542,3.854,4.167,4.557,4.652,4.458,4.249,4.007,3.748,3.502,3.256,3.01,2.764,2.518,2.313,2.086,1.419])\n",
    "\n",
    "airfoils = [\"Cylinder1\",\"Cylinder1\",\"Cylinder2\",\"DU40_A17\",\"DU35_A17\",\"DU35_A17\",\"DU30_A17\",\"DU25_A17\",\"DU25_A17\",\"DU21_A17\",\"DU21_A17\",\"NACA64_A17\",\"NACA64_A17\",\"NACA64_A17\",\"NACA64_A17\",\"NACA64_A17\",\"NACA64_A17\"]\n",
    "\n",
    "N = len(U)\n",
    "P = np.zeros(N)\n",
    "for k in range(N):\n",
    "    _,_,P[k] = BEM(U[k],Omega[k],pitch[k],r,twist,chord,B,airfoils)\n",
    "    print(P[k]*1e-3)\n",
    "\n",
    "plt.figure('P')\n",
    "plt.plot(U, P*1e-3)\n",
    "plt.xlim([0,25])\n",
    "plt.ylim([0,6000])\n",
    "plt.xlabel(r\"$U$ $[m/s]$\")\n",
    "plt.ylabel(r\"$P$ $[kW]$\")"
   ]
  },
  {
   "cell_type": "markdown",
   "metadata": {},
   "source": [
    "---\n",
    "\n",
    "## Application of the BEM on the IEA 15MW Wind Turbine\n",
    "\n",
    "--- \n",
    "\n",
    "### Estimation of the torque and power of the IEA 15MW Turbine at selected wind speeds and look at the induction factors obtained"
   ]
  },
  {
   "cell_type": "code",
   "execution_count": null,
   "metadata": {},
   "outputs": [],
   "source": []
  },
  {
   "cell_type": "markdown",
   "metadata": {},
   "source": [
    "### Comparaison between calculated values with the actual torque/power curves "
   ]
  },
  {
   "cell_type": "code",
   "execution_count": null,
   "metadata": {},
   "outputs": [],
   "source": [
    " "
   ]
  },
  {
   "cell_type": "markdown",
   "metadata": {},
   "source": [
    "#### Comment on hypothesis and simplifications"
   ]
  },
  {
   "cell_type": "code",
   "execution_count": null,
   "metadata": {},
   "outputs": [],
   "source": []
  },
  {
   "cell_type": "markdown",
   "metadata": {},
   "source": [
    "---\n",
    "## IEA 15 MW Wind Turbine annual energy production and load factor\n",
    "\n",
    "---\n",
    "\n",
    "Following the slides on the *Wind_2021.pdf* course we see that in order to compute the annual energy production we have to combine the caracterstic power curve of our wind turbine (Power produced/Wind speed graph) obtained before and by combining this with the speed monotone we determine a power monotone.\n",
    "\n",
    "**Loading data**"
   ]
  },
  {
   "cell_type": "code",
   "execution_count": 45,
   "metadata": {},
   "outputs": [],
   "source": [
    "# Libraries # \n",
    "import pandas as pd\n",
    "import matplotlib.pyplot as plt\n",
    "import numpy as np\n",
    "from scipy import interpolate\n",
    "\n",
    "# CSV File reading for weather data # \n",
    "\n",
    "personal_data_path = '../Data/'\n",
    "df_wind = pd.read_csv(personal_data_path+ 'Weather_data_150m_height.csv', header=0, usecols=[0,1]) \n",
    "df_perf = pd.read_csv(personal_data_path+ 'performance_ccblade.csv',usecols=[0,3],sep=\"\\t\") \n",
    "\n",
    "df_perf.rename(columns=lambda x: x.strip(), inplace=True)\n",
    "df_perf.rename(columns=lambda x: x.strip(), inplace=True)\n",
    "\n",
    "wind = df_wind['wind_speed']\n"
   ]
  },
  {
   "cell_type": "code",
   "execution_count": 43,
   "metadata": {},
   "outputs": [
    {
     "name": "stdout",
     "output_type": "stream",
     "text": [
      "[   39456.            85332.97907188   131209.95814377   177086.93721565\n",
      "   222963.91628753   268840.89535942   322566.97530864   383986.72839506\n",
      "   445406.48148148   506826.2345679    568245.98765432   634819.57407408\n",
      "   712294.88271605   789770.19135803   867245.5          944720.80864198\n",
      "  1029668.31381216  1123352.29171271  1217036.26961326  1310720.24751381\n",
      "  1404404.22541437  1513158.46889952  1622943.15789474  1732727.84688995\n",
      "  1842512.53588517  1964170.5882353   2089660.78431373  2215150.98039216\n",
      "  2340641.17647059  2480086.53568333  2620566.16584803  2761045.79601272\n",
      "  2908107.31628359  3062590.9679508   3217074.619618    3376363.96163778\n",
      "  3543460.97381041  3710557.98598304  3885147.31182796  4063426.88172044\n",
      "  4245721.4581179   4435638.72802483  4629806.82261209  4830066.73164393\n",
      "  5036213.93514462  5246990.54054055  5464189.93135012  5686956.75039248\n",
      "  5914350.78492937  6149993.53680432  6389111.47699759  6635794.2857143\n",
      "  6885614.18092911  7145760.88019561  7405907.57946212  7676293.72797746\n",
      "  7949584.7780127   8222875.82804793  8511199.03546983  8800464.74797761\n",
      "  9089730.46048539  9395403.07005304  9707236.72899806 10019070.38794308\n",
      " 10334632.86004059 10672361.05476675 11010089.24949292 11347817.44421909\n",
      " 11691348.83720933 12058093.02325584 12424837.20930235 12791581.39534886\n",
      " 13158325.58139537 13556804.00890871 13958808.46325169 14360812.91759468\n",
      " 14762817.37193766 15000000.         15000000.         15000000.\n",
      " 15000000.         15000000.         15000000.         15000000.\n",
      " 15000000.         15000000.         15000000.         15000000.\n",
      " 15000000.         15000000.         15000000.         15000000.\n",
      " 15000000.         15000000.         15000000.         15000000.\n",
      " 15000000.         15000000.         15000000.         15000000.\n",
      " 15000000.         15000000.         15000000.         15000000.\n",
      " 15000000.         15000000.         15000000.         15000000.\n",
      " 15000000.         15000000.         15000000.         15000000.\n",
      " 15000000.         15000000.         15000000.         15000000.\n",
      " 15000000.         15000000.         15000000.         15000000.\n",
      " 15000000.         15000000.         15000000.         15000000.\n",
      " 15000000.         15000000.         15000000.         15000000.\n",
      " 15000000.         15000000.         15000000.         15000000.\n",
      " 15000000.         15000000.         15000000.         15000000.\n",
      " 15000000.         15000000.         15000000.         15000000.\n",
      " 15000000.         15000000.         15000000.         15000000.\n",
      " 15000000.         15000000.         15000000.         15000000.\n",
      " 15000000.         15000000.         15000000.         15000000.\n",
      " 15000000.         15000000.         15000000.         15000000.\n",
      " 15000000.         15000000.         15000000.         15000000.\n",
      " 15000000.         15000000.         15000000.         15000000.\n",
      " 15000000.         15000000.         15000000.         15000000.\n",
      " 15000000.         15000000.         15000000.         15000000.\n",
      " 15000000.         15000000.         15000000.         15000000.\n",
      " 15000000.         15000000.         15000000.         15000000.\n",
      " 15000000.         15000000.         15000000.         15000000.\n",
      " 15000000.         15000000.         15000000.         15000000.\n",
      " 15000000.         15000000.         15000000.         15000000.\n",
      " 15000000.         15000000.         15000000.         15000000.\n",
      " 15000000.         15000000.         15000000.         15000000.\n",
      " 15000000.         15000000.         15000000.         15000000.\n",
      " 15000000.         15000000.         15000000.         15000000.\n",
      " 15000000.         15000000.         15000000.         15000000.\n",
      " 15000000.         15000000.         15000000.         15000000.\n",
      " 15000000.         15000000.         15000000.         15000000.        ]\n"
     ]
    },
    {
     "data": {
      "image/png": "[encoded data removed]",
      "text/plain": [
       "<Figure size 640x480 with 1 Axes>"
      ]
     },
     "metadata": {},
     "output_type": "display_data"
    }
   ],
   "source": [
    "\n",
    "x = np.arange(3, 25,0.1)\n",
    "f = interpolate.interp1d(df_perf[\"# Wind speed (m/s)\"], df_perf[\"Rotor electrical power (W)\"])\n",
    "ynew = f(x)   # use interpolation function returned by `interp1d`\n",
    "print(ynew)\n",
    "plt.plot(df_perf[\"# Wind speed (m/s)\"],df_perf[\"Rotor electrical power (W)\"])\n",
    "plt.plot(x, ynew, '--')\n",
    "plt.show()"
   ]
  },
  {
   "cell_type": "code",
   "execution_count": 34,
   "metadata": {},
   "outputs": [
    {
     "data": {
      "text/plain": [
       "count    8760.000000\n",
       "mean        8.933245\n",
       "std         3.106160\n",
       "min         1.821000\n",
       "25%         6.794750\n",
       "50%         8.768000\n",
       "75%        10.646000\n",
       "max        21.641000\n",
       "Name: wind_speed, dtype: float64"
      ]
     },
     "execution_count": 34,
     "metadata": {},
     "output_type": "execute_result"
    }
   ],
   "source": [
    "# for i in range(0,30,2):\n",
    "#     df_perf.loc[len(df_perf.index)] = [i/10,0]\n",
    "# for i in range(251,300,2):\n",
    "#     df_perf.loc[len(df_perf.index)] = [i/10,0]\n",
    "    \n",
    "# df_perf.index = df_perf[\"# Wind speed (m/s)\"]\n",
    "# df_perf = df_perf.drop(columns=[\"# Wind speed (m/s)\"])\n",
    "# df_perf = df_perf.sort_index()\n",
    "# wind_speed_range = df_perf.index.values\n",
    "# wind.describe()"
   ]
  },
  {
   "cell_type": "code",
   "execution_count": 31,
   "metadata": {},
   "outputs": [
    {
     "name": "stdout",
     "output_type": "stream",
     "text": [
      "0.0\n",
      "0.0\n",
      "0.0\n",
      "0.0\n",
      "0.0\n",
      "0.0\n",
      "0.0\n",
      "0.0\n",
      "0.0\n",
      "0.0\n",
      "0.0\n",
      "0.0\n",
      "0.0\n",
      "0.0\n",
      "0.0\n",
      "39456.0\n",
      "291550.0\n",
      "609950.0\n",
      "986480.0\n",
      "1410400.0\n",
      "1869300.0\n",
      "2349300.0\n",
      "2835500.0\n",
      "3312700.0\n",
      "3765700.0\n",
      "4180200.0\n",
      "4547500.0\n",
      "4855700.0\n",
      "5091900.0\n",
      "5248900.0\n",
      "5321200.0\n",
      "5335800.0\n",
      "5438300.0\n",
      "5631700.0\n",
      "5921400.0\n",
      "6315600.0\n",
      "6825000.0\n",
      "7463400.0\n",
      "8239000.0\n",
      "9168700.0\n",
      "10286000.0\n",
      "11618000.0\n",
      "13195000.0\n",
      "15000000.0\n",
      "15000000.0\n",
      "15000000.0\n",
      "15000000.0\n",
      "15000000.0\n",
      "15000000.0\n",
      "15000000.0\n",
      "15000000.0\n",
      "15000000.0\n",
      "15000000.0\n",
      "15000000.0\n",
      "15000000.0\n",
      "15000000.0\n",
      "15000000.0\n",
      "15000000.0\n",
      "15000000.0\n",
      "15000000.0\n",
      "15000000.0\n",
      "15000000.0\n",
      "15000000.0\n",
      "15000000.0\n",
      "15000000.0\n",
      "0.0\n",
      "0.0\n",
      "0.0\n",
      "0.0\n",
      "0.0\n",
      "0.0\n",
      "0.0\n",
      "0.0\n",
      "0.0\n",
      "0.0\n",
      "0.0\n",
      "0.0\n",
      "0.0\n",
      "0.0\n",
      "0.0\n",
      "0.0\n",
      "0.0\n",
      "0.0\n",
      "0.0\n",
      "0.0\n",
      "0.0\n",
      "0.0\n",
      "0.0\n",
      "0.0\n",
      "0.0\n"
     ]
    }
   ],
   "source": [
    "for i in df_perf[\"Rotor electrical power (W)\"]: \n",
    "    print(i)"
   ]
  },
  {
   "cell_type": "code",
   "execution_count": 21,
   "metadata": {},
   "outputs": [
    {
     "name": "stdout",
     "output_type": "stream",
     "text": [
      "Rotor electrical power (W)    39456.0\n",
      "Name: 3.0, dtype: float64\n"
     ]
    }
   ],
   "source": [
    "print(df_perf.loc[3.0])"
   ]
  },
  {
   "cell_type": "markdown",
   "metadata": {},
   "source": [
    "Computation of the mean velocity of the wind during the year"
   ]
  },
  {
   "cell_type": "code",
   "execution_count": 22,
   "metadata": {},
   "outputs": [
    {
     "name": "stdout",
     "output_type": "stream",
     "text": [
      "Mean velocity of the wind = 8.933 m/s\n"
     ]
    }
   ],
   "source": [
    "mean_wind = np.mean(wind)\n",
    "print(\"Mean velocity of the wind = {:.3f} m/s\".format(mean_wind))"
   ]
  },
  {
   "cell_type": "markdown",
   "metadata": {},
   "source": [
    "**Wind Distribution**"
   ]
  },
  {
   "cell_type": "code",
   "execution_count": 23,
   "metadata": {},
   "outputs": [
    {
     "data": {
      "image/png": "[encoded data removed]",
      "text/plain": [
       "<Figure size 640x480 with 1 Axes>"
      ]
     },
     "metadata": {},
     "output_type": "display_data"
    }
   ],
   "source": [
    "def weibull(u, k, c):\n",
    "    return (k / c) * (u / c)**(k-1) * np.exp(-(u/c)**k)\n",
    "\n",
    "k = 2.85 #2.12\n",
    "c = 9.7\n",
    "wind_distribution = []\n",
    "for i in wind_speed_range :\n",
    "    wind_distribution.append(weibull(i, k, c))  \n",
    "\n",
    "hist, bins = np.histogram(wind, bins=wind_speed_range)\n",
    "plt.hist(wind, bins=wind_speed_range,density=True, label='Histogram')\n",
    "plt.plot(wind_speed_range, wind_distribution, label='Weibull Distribution')\n",
    "plt.xlabel('Wind Speed')\n",
    "plt.legend()\n",
    "plt.ylabel('Probabilty [%]')\n",
    "plt.title('Wind Speed Histogram [m/s]')\n",
    "plt.show()\n"
   ]
  },
  {
   "cell_type": "code",
   "execution_count": 24,
   "metadata": {},
   "outputs": [
    {
     "data": {
      "image/png": "[encoded data removed]",
      "text/plain": [
       "<Figure size 640x480 with 1 Axes>"
      ]
     },
     "metadata": {},
     "output_type": "display_data"
    }
   ],
   "source": [
    "sorted_wind = np.sort(wind)[::-1]  # Sort wind speeds in descending order\n",
    "\n",
    "plt.plot(np.arange(0, len(sorted_wind), 1), sorted_wind)\n",
    "plt.xlabel('Time [h]')\n",
    "plt.ylabel('Wind Speed [m/s]')\n",
    "plt.title('Wind Speed Duration Curve')\n",
    "plt.show()"
   ]
  },
  {
   "cell_type": "markdown",
   "metadata": {},
   "source": [
    "**Characteristic curve of IEA  Wind  15-MW  Turbine**\n",
    "\n",
    "Using the performance and knowing the parameters of the 15MW turbine, we have :\n",
    "- Cut-in  wind  speed : 3 m/s\n",
    "- Rated  wind  speed : 10.59 m/s\n",
    "- Cut-out  wind  speed : 25 m/s\n"
   ]
  },
  {
   "cell_type": "code",
   "execution_count": 64,
   "metadata": {},
   "outputs": [
    {
     "ename": "KeyError",
     "evalue": "'# Wind speed (m/s)'",
     "output_type": "error",
     "traceback": [
      "\u001b[1;31m---------------------------------------------------------------------------\u001b[0m",
      "\u001b[1;31mKeyError\u001b[0m                                  Traceback (most recent call last)",
      "File \u001b[1;32mc:\\Users\\antho\\anaconda3\\lib\\site-packages\\pandas\\core\\indexes\\base.py:3802\u001b[0m, in \u001b[0;36mIndex.get_loc\u001b[1;34m(self, key, method, tolerance)\u001b[0m\n\u001b[0;32m   3801\u001b[0m \u001b[39mtry\u001b[39;00m:\n\u001b[1;32m-> 3802\u001b[0m     \u001b[39mreturn\u001b[39;00m \u001b[39mself\u001b[39;49m\u001b[39m.\u001b[39;49m_engine\u001b[39m.\u001b[39;49mget_loc(casted_key)\n\u001b[0;32m   3803\u001b[0m \u001b[39mexcept\u001b[39;00m \u001b[39mKeyError\u001b[39;00m \u001b[39mas\u001b[39;00m err:\n",
      "File \u001b[1;32mc:\\Users\\antho\\anaconda3\\lib\\site-packages\\pandas\\_libs\\index.pyx:138\u001b[0m, in \u001b[0;36mpandas._libs.index.IndexEngine.get_loc\u001b[1;34m()\u001b[0m\n",
      "File \u001b[1;32mc:\\Users\\antho\\anaconda3\\lib\\site-packages\\pandas\\_libs\\index.pyx:165\u001b[0m, in \u001b[0;36mpandas._libs.index.IndexEngine.get_loc\u001b[1;34m()\u001b[0m\n",
      "File \u001b[1;32mpandas\\_libs\\hashtable_class_helper.pxi:5745\u001b[0m, in \u001b[0;36mpandas._libs.hashtable.PyObjectHashTable.get_item\u001b[1;34m()\u001b[0m\n",
      "File \u001b[1;32mpandas\\_libs\\hashtable_class_helper.pxi:5753\u001b[0m, in \u001b[0;36mpandas._libs.hashtable.PyObjectHashTable.get_item\u001b[1;34m()\u001b[0m\n",
      "\u001b[1;31mKeyError\u001b[0m: '# Wind speed (m/s)'",
      "\nThe above exception was the direct cause of the following exception:\n",
      "\u001b[1;31mKeyError\u001b[0m                                  Traceback (most recent call last)",
      "\u001b[1;32mc:\\Users\\antho\\OneDrive - UCL\\UCLouvain\\MAP (2022-2024)\\_M2-Q1\\Renewables Energy Sources\\LENVI2007---Wind-Turbine-Design\\BEM\\Project.ipynb Cell 33\u001b[0m line \u001b[0;36m4\n\u001b[0;32m      <a href='vscode-notebook-cell:/c%3A/Users/antho/OneDrive%20-%20UCL/UCLouvain/MAP%20%282022-2024%29/_M2-Q1/Renewables%20Energy%20Sources/LENVI2007---Wind-Turbine-Design/BEM/Project.ipynb#X53sZmlsZQ%3D%3D?line=0'>1</a>\u001b[0m \u001b[39m# Populate the performance data with an interpolation \u001b[39;00m\n\u001b[0;32m      <a href='vscode-notebook-cell:/c%3A/Users/antho/OneDrive%20-%20UCL/UCLouvain/MAP%20%282022-2024%29/_M2-Q1/Renewables%20Energy%20Sources/LENVI2007---Wind-Turbine-Design/BEM/Project.ipynb#X53sZmlsZQ%3D%3D?line=2'>3</a>\u001b[0m wind_range \u001b[39m=\u001b[39m np\u001b[39m.\u001b[39marange(\u001b[39m3\u001b[39m, \u001b[39m25\u001b[39m,\u001b[39m0.1\u001b[39m)\n\u001b[1;32m----> <a href='vscode-notebook-cell:/c%3A/Users/antho/OneDrive%20-%20UCL/UCLouvain/MAP%20%282022-2024%29/_M2-Q1/Renewables%20Energy%20Sources/LENVI2007---Wind-Turbine-Design/BEM/Project.ipynb#X53sZmlsZQ%3D%3D?line=3'>4</a>\u001b[0m f \u001b[39m=\u001b[39m interpolate\u001b[39m.\u001b[39minterp1d(df_perf[\u001b[39m\"\u001b[39;49m\u001b[39m# Wind speed (m/s)\u001b[39;49m\u001b[39m\"\u001b[39;49m], df_perf[\u001b[39m\"\u001b[39m\u001b[39mRotor electrical power (W)\u001b[39m\u001b[39m\"\u001b[39m])\n\u001b[0;32m      <a href='vscode-notebook-cell:/c%3A/Users/antho/OneDrive%20-%20UCL/UCLouvain/MAP%20%282022-2024%29/_M2-Q1/Renewables%20Energy%20Sources/LENVI2007---Wind-Turbine-Design/BEM/Project.ipynb#X53sZmlsZQ%3D%3D?line=4'>5</a>\u001b[0m ynew \u001b[39m=\u001b[39m f(wind_range)   \u001b[39m# use interpolation function returned by `interp1d`\u001b[39;00m\n\u001b[0;32m      <a href='vscode-notebook-cell:/c%3A/Users/antho/OneDrive%20-%20UCL/UCLouvain/MAP%20%282022-2024%29/_M2-Q1/Renewables%20Energy%20Sources/LENVI2007---Wind-Turbine-Design/BEM/Project.ipynb#X53sZmlsZQ%3D%3D?line=5'>6</a>\u001b[0m plt\u001b[39m.\u001b[39mplot(df_perf[\u001b[39m\"\u001b[39m\u001b[39m# Wind speed (m/s)\u001b[39m\u001b[39m\"\u001b[39m],df_perf[\u001b[39m\"\u001b[39m\u001b[39mRotor electrical power (W)\u001b[39m\u001b[39m\"\u001b[39m]\u001b[39m/\u001b[39m\u001b[39m10\u001b[39m\u001b[39m*\u001b[39m\u001b[39m*\u001b[39m\u001b[39m6\u001b[39m,\u001b[39m'\u001b[39m\u001b[39mo\u001b[39m\u001b[39m'\u001b[39m,label\u001b[39m=\u001b[39m\u001b[39m'\u001b[39m\u001b[39mData points\u001b[39m\u001b[39m'\u001b[39m,color\u001b[39m=\u001b[39m\u001b[39m'\u001b[39m\u001b[39mblue\u001b[39m\u001b[39m'\u001b[39m)\n",
      "File \u001b[1;32mc:\\Users\\antho\\anaconda3\\lib\\site-packages\\pandas\\core\\frame.py:3807\u001b[0m, in \u001b[0;36mDataFrame.__getitem__\u001b[1;34m(self, key)\u001b[0m\n\u001b[0;32m   3805\u001b[0m \u001b[39mif\u001b[39;00m \u001b[39mself\u001b[39m\u001b[39m.\u001b[39mcolumns\u001b[39m.\u001b[39mnlevels \u001b[39m>\u001b[39m \u001b[39m1\u001b[39m:\n\u001b[0;32m   3806\u001b[0m     \u001b[39mreturn\u001b[39;00m \u001b[39mself\u001b[39m\u001b[39m.\u001b[39m_getitem_multilevel(key)\n\u001b[1;32m-> 3807\u001b[0m indexer \u001b[39m=\u001b[39m \u001b[39mself\u001b[39;49m\u001b[39m.\u001b[39;49mcolumns\u001b[39m.\u001b[39;49mget_loc(key)\n\u001b[0;32m   3808\u001b[0m \u001b[39mif\u001b[39;00m is_integer(indexer):\n\u001b[0;32m   3809\u001b[0m     indexer \u001b[39m=\u001b[39m [indexer]\n",
      "File \u001b[1;32mc:\\Users\\antho\\anaconda3\\lib\\site-packages\\pandas\\core\\indexes\\base.py:3804\u001b[0m, in \u001b[0;36mIndex.get_loc\u001b[1;34m(self, key, method, tolerance)\u001b[0m\n\u001b[0;32m   3802\u001b[0m     \u001b[39mreturn\u001b[39;00m \u001b[39mself\u001b[39m\u001b[39m.\u001b[39m_engine\u001b[39m.\u001b[39mget_loc(casted_key)\n\u001b[0;32m   3803\u001b[0m \u001b[39mexcept\u001b[39;00m \u001b[39mKeyError\u001b[39;00m \u001b[39mas\u001b[39;00m err:\n\u001b[1;32m-> 3804\u001b[0m     \u001b[39mraise\u001b[39;00m \u001b[39mKeyError\u001b[39;00m(key) \u001b[39mfrom\u001b[39;00m \u001b[39merr\u001b[39;00m\n\u001b[0;32m   3805\u001b[0m \u001b[39mexcept\u001b[39;00m \u001b[39mTypeError\u001b[39;00m:\n\u001b[0;32m   3806\u001b[0m     \u001b[39m# If we have a listlike key, _check_indexing_error will raise\u001b[39;00m\n\u001b[0;32m   3807\u001b[0m     \u001b[39m#  InvalidIndexError. Otherwise we fall through and re-raise\u001b[39;00m\n\u001b[0;32m   3808\u001b[0m     \u001b[39m#  the TypeError.\u001b[39;00m\n\u001b[0;32m   3809\u001b[0m     \u001b[39mself\u001b[39m\u001b[39m.\u001b[39m_check_indexing_error(key)\n",
      "\u001b[1;31mKeyError\u001b[0m: '# Wind speed (m/s)'"
     ]
    }
   ],
   "source": [
    "# Populate the performance data with an interpolation \n",
    "\n",
    "wind_range = np.arange(3, 25,0.1)\n",
    "f = interpolate.interp1d(df_perf[\"# Wind speed (m/s)\"], df_perf[\"Rotor electrical power (W)\"])\n",
    "ynew = f(wind_range)   # use interpolation function returned by `interp1d`\n",
    "plt.plot(df_perf[\"# Wind speed (m/s)\"],df_perf[\"Rotor electrical power (W)\"]/10**6,'o',label='Data points',color='blue')\n",
    "plt.plot(x, ynew/10**6, '-',label='Interpolation',color='red')\n",
    "plt.legend()\n",
    "plt.xlabel('Wind Speed [m/s]')\n",
    "plt.ylabel('Rotor electrical power [MW]')\n",
    "plt.xticks(np.arange(0, 31, 1))\n",
    "plt.title('Rotor electrical power [MW]')\n",
    "plt.show()\n",
    "plt.show()"
   ]
  },
  {
   "cell_type": "code",
   "execution_count": 65,
   "metadata": {},
   "outputs": [
    {
     "data": {
      "text/plain": [
       "count    8760.000000\n",
       "mean        8.933245\n",
       "std         3.106160\n",
       "min         1.821000\n",
       "25%         6.794750\n",
       "50%         8.768000\n",
       "75%        10.646000\n",
       "max        21.641000\n",
       "Name: wind_speed, dtype: float64"
      ]
     },
     "execution_count": 65,
     "metadata": {},
     "output_type": "execute_result"
    }
   ],
   "source": [
    "df_perf_v2 = pd.DataFrame(columns=[\"# Wind speed (m/s)\",\"Rotor electrical power (W)\"])\n",
    "df_perf_v2[\"# Wind speed (m/s)\"] = wind_range\n",
    "df_perf_v2[\"Rotor electrical power (W)\"] = ynew\n",
    "\n",
    "\n",
    "\n",
    "for i in range(0,30,2):\n",
    "    df_perf_v2.loc[len(df_perf_v2.index)] = [i/10,0]\n",
    "for i in range(251,300,2):\n",
    "    df_perf_v2.loc[len(df_perf_v2.index)] = [i/10,0]\n",
    "\n",
    "df_perf_v2.head(100)\n",
    "    \n",
    "df_perf_v2.index = df_perf_v2[\"# Wind speed (m/s)\"]\n",
    "df_perf_v2 = df_perf_v2.drop(columns=[\"# Wind speed (m/s)\"])\n",
    "df_perf_v2 = df_perf_v2.sort_index()\n",
    "wind_speed_range = df_perf_v2.index.values\n",
    "wind.describe()"
   ]
  },
  {
   "cell_type": "code",
   "execution_count": 66,
   "metadata": {},
   "outputs": [
    {
     "ename": "KeyError",
     "evalue": "21.700000000000017",
     "output_type": "error",
     "traceback": [
      "\u001b[1;31m---------------------------------------------------------------------------\u001b[0m",
      "\u001b[1;31mKeyError\u001b[0m                                  Traceback (most recent call last)",
      "File \u001b[1;32mc:\\Users\\antho\\anaconda3\\lib\\site-packages\\pandas\\core\\indexes\\base.py:3802\u001b[0m, in \u001b[0;36mIndex.get_loc\u001b[1;34m(self, key, method, tolerance)\u001b[0m\n\u001b[0;32m   3801\u001b[0m \u001b[39mtry\u001b[39;00m:\n\u001b[1;32m-> 3802\u001b[0m     \u001b[39mreturn\u001b[39;00m \u001b[39mself\u001b[39;49m\u001b[39m.\u001b[39;49m_engine\u001b[39m.\u001b[39;49mget_loc(casted_key)\n\u001b[0;32m   3803\u001b[0m \u001b[39mexcept\u001b[39;00m \u001b[39mKeyError\u001b[39;00m \u001b[39mas\u001b[39;00m err:\n",
      "File \u001b[1;32mc:\\Users\\antho\\anaconda3\\lib\\site-packages\\pandas\\_libs\\index.pyx:138\u001b[0m, in \u001b[0;36mpandas._libs.index.IndexEngine.get_loc\u001b[1;34m()\u001b[0m\n",
      "File \u001b[1;32mc:\\Users\\antho\\anaconda3\\lib\\site-packages\\pandas\\_libs\\index.pyx:165\u001b[0m, in \u001b[0;36mpandas._libs.index.IndexEngine.get_loc\u001b[1;34m()\u001b[0m\n",
      "File \u001b[1;32mpandas\\_libs\\hashtable_class_helper.pxi:1577\u001b[0m, in \u001b[0;36mpandas._libs.hashtable.Float64HashTable.get_item\u001b[1;34m()\u001b[0m\n",
      "File \u001b[1;32mpandas\\_libs\\hashtable_class_helper.pxi:1587\u001b[0m, in \u001b[0;36mpandas._libs.hashtable.Float64HashTable.get_item\u001b[1;34m()\u001b[0m\n",
      "\u001b[1;31mKeyError\u001b[0m: 21.700000000000017",
      "\nThe above exception was the direct cause of the following exception:\n",
      "\u001b[1;31mKeyError\u001b[0m                                  Traceback (most recent call last)",
      "\u001b[1;32mc:\\Users\\antho\\OneDrive - UCL\\UCLouvain\\MAP (2022-2024)\\_M2-Q1\\Renewables Energy Sources\\LENVI2007---Wind-Turbine-Design\\BEM\\Project.ipynb Cell 35\u001b[0m line \u001b[0;36m1\n\u001b[0;32m      <a href='vscode-notebook-cell:/c%3A/Users/antho/OneDrive%20-%20UCL/UCLouvain/MAP%20%282022-2024%29/_M2-Q1/Renewables%20Energy%20Sources/LENVI2007---Wind-Turbine-Design/BEM/Project.ipynb#X43sZmlsZQ%3D%3D?line=7'>8</a>\u001b[0m power_duration_curve \u001b[39m=\u001b[39m []\n\u001b[0;32m      <a href='vscode-notebook-cell:/c%3A/Users/antho/OneDrive%20-%20UCL/UCLouvain/MAP%20%282022-2024%29/_M2-Q1/Renewables%20Energy%20Sources/LENVI2007---Wind-Turbine-Design/BEM/Project.ipynb#X43sZmlsZQ%3D%3D?line=8'>9</a>\u001b[0m \u001b[39mfor\u001b[39;00m i \u001b[39min\u001b[39;00m sorted_wind:\n\u001b[1;32m---> <a href='vscode-notebook-cell:/c%3A/Users/antho/OneDrive%20-%20UCL/UCLouvain/MAP%20%282022-2024%29/_M2-Q1/Renewables%20Energy%20Sources/LENVI2007---Wind-Turbine-Design/BEM/Project.ipynb#X43sZmlsZQ%3D%3D?line=9'>10</a>\u001b[0m     power_duration_curve\u001b[39m.\u001b[39mappend(df_perf\u001b[39m.\u001b[39;49mloc[closest_speed(i)]\u001b[39m/\u001b[39m\u001b[39m10\u001b[39m\u001b[39m*\u001b[39m\u001b[39m*\u001b[39m\u001b[39m6\u001b[39m)\n\u001b[0;32m     <a href='vscode-notebook-cell:/c%3A/Users/antho/OneDrive%20-%20UCL/UCLouvain/MAP%20%282022-2024%29/_M2-Q1/Renewables%20Energy%20Sources/LENVI2007---Wind-Turbine-Design/BEM/Project.ipynb#X43sZmlsZQ%3D%3D?line=11'>12</a>\u001b[0m plt\u001b[39m.\u001b[39mfigure()\n\u001b[0;32m     <a href='vscode-notebook-cell:/c%3A/Users/antho/OneDrive%20-%20UCL/UCLouvain/MAP%20%282022-2024%29/_M2-Q1/Renewables%20Energy%20Sources/LENVI2007---Wind-Turbine-Design/BEM/Project.ipynb#X43sZmlsZQ%3D%3D?line=12'>13</a>\u001b[0m plt\u001b[39m.\u001b[39mplot(np\u001b[39m.\u001b[39marange(\u001b[39m0\u001b[39m, \u001b[39mlen\u001b[39m(power_duration_curve), \u001b[39m1\u001b[39m),np\u001b[39m.\u001b[39mzeros(\u001b[39mlen\u001b[39m(power_duration_curve)),\u001b[39m'\u001b[39m\u001b[39m--\u001b[39m\u001b[39m'\u001b[39m,color\u001b[39m=\u001b[39m\u001b[39m'\u001b[39m\u001b[39mblack\u001b[39m\u001b[39m'\u001b[39m, label\u001b[39m=\u001b[39m\u001b[39m'\u001b[39m\u001b[39m0 MW Trendline\u001b[39m\u001b[39m'\u001b[39m)\n",
      "File \u001b[1;32mc:\\Users\\antho\\anaconda3\\lib\\site-packages\\pandas\\core\\indexing.py:1073\u001b[0m, in \u001b[0;36m_LocationIndexer.__getitem__\u001b[1;34m(self, key)\u001b[0m\n\u001b[0;32m   1070\u001b[0m axis \u001b[39m=\u001b[39m \u001b[39mself\u001b[39m\u001b[39m.\u001b[39maxis \u001b[39mor\u001b[39;00m \u001b[39m0\u001b[39m\n\u001b[0;32m   1072\u001b[0m maybe_callable \u001b[39m=\u001b[39m com\u001b[39m.\u001b[39mapply_if_callable(key, \u001b[39mself\u001b[39m\u001b[39m.\u001b[39mobj)\n\u001b[1;32m-> 1073\u001b[0m \u001b[39mreturn\u001b[39;00m \u001b[39mself\u001b[39;49m\u001b[39m.\u001b[39;49m_getitem_axis(maybe_callable, axis\u001b[39m=\u001b[39;49maxis)\n",
      "File \u001b[1;32mc:\\Users\\antho\\anaconda3\\lib\\site-packages\\pandas\\core\\indexing.py:1312\u001b[0m, in \u001b[0;36m_LocIndexer._getitem_axis\u001b[1;34m(self, key, axis)\u001b[0m\n\u001b[0;32m   1310\u001b[0m \u001b[39m# fall thru to straight lookup\u001b[39;00m\n\u001b[0;32m   1311\u001b[0m \u001b[39mself\u001b[39m\u001b[39m.\u001b[39m_validate_key(key, axis)\n\u001b[1;32m-> 1312\u001b[0m \u001b[39mreturn\u001b[39;00m \u001b[39mself\u001b[39;49m\u001b[39m.\u001b[39;49m_get_label(key, axis\u001b[39m=\u001b[39;49maxis)\n",
      "File \u001b[1;32mc:\\Users\\antho\\anaconda3\\lib\\site-packages\\pandas\\core\\indexing.py:1260\u001b[0m, in \u001b[0;36m_LocIndexer._get_label\u001b[1;34m(self, label, axis)\u001b[0m\n\u001b[0;32m   1258\u001b[0m \u001b[39mdef\u001b[39;00m \u001b[39m_get_label\u001b[39m(\u001b[39mself\u001b[39m, label, axis: \u001b[39mint\u001b[39m):\n\u001b[0;32m   1259\u001b[0m     \u001b[39m# GH#5567 this will fail if the label is not present in the axis.\u001b[39;00m\n\u001b[1;32m-> 1260\u001b[0m     \u001b[39mreturn\u001b[39;00m \u001b[39mself\u001b[39;49m\u001b[39m.\u001b[39;49mobj\u001b[39m.\u001b[39;49mxs(label, axis\u001b[39m=\u001b[39;49maxis)\n",
      "File \u001b[1;32mc:\\Users\\antho\\anaconda3\\lib\\site-packages\\pandas\\core\\generic.py:4056\u001b[0m, in \u001b[0;36mNDFrame.xs\u001b[1;34m(self, key, axis, level, drop_level)\u001b[0m\n\u001b[0;32m   4054\u001b[0m             new_index \u001b[39m=\u001b[39m index[loc]\n\u001b[0;32m   4055\u001b[0m \u001b[39melse\u001b[39;00m:\n\u001b[1;32m-> 4056\u001b[0m     loc \u001b[39m=\u001b[39m index\u001b[39m.\u001b[39;49mget_loc(key)\n\u001b[0;32m   4058\u001b[0m     \u001b[39mif\u001b[39;00m \u001b[39misinstance\u001b[39m(loc, np\u001b[39m.\u001b[39mndarray):\n\u001b[0;32m   4059\u001b[0m         \u001b[39mif\u001b[39;00m loc\u001b[39m.\u001b[39mdtype \u001b[39m==\u001b[39m np\u001b[39m.\u001b[39mbool_:\n",
      "File \u001b[1;32mc:\\Users\\antho\\anaconda3\\lib\\site-packages\\pandas\\core\\indexes\\base.py:3804\u001b[0m, in \u001b[0;36mIndex.get_loc\u001b[1;34m(self, key, method, tolerance)\u001b[0m\n\u001b[0;32m   3802\u001b[0m     \u001b[39mreturn\u001b[39;00m \u001b[39mself\u001b[39m\u001b[39m.\u001b[39m_engine\u001b[39m.\u001b[39mget_loc(casted_key)\n\u001b[0;32m   3803\u001b[0m \u001b[39mexcept\u001b[39;00m \u001b[39mKeyError\u001b[39;00m \u001b[39mas\u001b[39;00m err:\n\u001b[1;32m-> 3804\u001b[0m     \u001b[39mraise\u001b[39;00m \u001b[39mKeyError\u001b[39;00m(key) \u001b[39mfrom\u001b[39;00m \u001b[39merr\u001b[39;00m\n\u001b[0;32m   3805\u001b[0m \u001b[39mexcept\u001b[39;00m \u001b[39mTypeError\u001b[39;00m:\n\u001b[0;32m   3806\u001b[0m     \u001b[39m# If we have a listlike key, _check_indexing_error will raise\u001b[39;00m\n\u001b[0;32m   3807\u001b[0m     \u001b[39m#  InvalidIndexError. Otherwise we fall through and re-raise\u001b[39;00m\n\u001b[0;32m   3808\u001b[0m     \u001b[39m#  the TypeError.\u001b[39;00m\n\u001b[0;32m   3809\u001b[0m     \u001b[39mself\u001b[39m\u001b[39m.\u001b[39m_check_indexing_error(key)\n",
      "\u001b[1;31mKeyError\u001b[0m: 21.700000000000017"
     ]
    }
   ],
   "source": [
    "#Power Duration Curve\n",
    "\n",
    "def closest_speed(value):\n",
    "    for i in wind_speed_range:\n",
    "        if i > value:\n",
    "            return i\n",
    "\n",
    "power_duration_curve = []\n",
    "for i in sorted_wind:\n",
    "    power_duration_curve.append(df_perf.loc[closest_speed(i)]/10**6)\n",
    "\n",
    "plt.figure()\n",
    "plt.plot(np.arange(0, len(power_duration_curve), 1),np.zeros(len(power_duration_curve)),'--',color='black', label='0 MW Trendline')\n",
    "plt.plot(np.arange(0, len(power_duration_curve), 1), power_duration_curve, label='Power Duration Curve',color='blue')\n",
    "plt.xlabel('Time [h]')\n",
    "plt.ylabel('Rotor electrical power [MW]')\n",
    "plt.title('Power Duration Curve')\n",
    "plt.legend()\n",
    "plt.show()\n",
    "# print(\"Energy produced [MWh]: \", sum(power_duration_curve))"
   ]
  },
  {
   "cell_type": "code",
   "execution_count": null,
   "metadata": {},
   "outputs": [
    {
     "name": "stdout",
     "output_type": "stream",
     "text": [
      "Energy produced [MWh]:  77878.42\n",
      "Average Power [MW]:  8.89\n",
      "Turbine is running on average at 59.27 % of nominal power during the year\n"
     ]
    }
   ],
   "source": [
    "print(\"Energy produced [MWh]: \", round(sum(power_duration_curve)[0],2))\n",
    "print(\"Average Power [MW]: \", round(sum(power_duration_curve)[0]/8760,2))\n",
    "print(\"Turbine is running on average at\",round(sum(power_duration_curve)[0]/8760/15*100,2),\"% of nominal power during the year\")"
   ]
  },
  {
   "cell_type": "code",
   "execution_count": null,
   "metadata": {},
   "outputs": [],
   "source": []
  },
  {
   "cell_type": "code",
   "execution_count": null,
   "metadata": {},
   "outputs": [],
   "source": []
  },
  {
   "cell_type": "code",
   "execution_count": null,
   "metadata": {},
   "outputs": [],
   "source": []
  }
 ],
 "metadata": {
  "kernelspec": {
   "display_name": "Python 3",
   "language": "python",
   "name": "python3"
  },
  "language_info": {
   "codemirror_mode": {
    "name": "ipython",
    "version": 3
   },
   "file_extension": ".py",
   "mimetype": "text/x-python",
   "name": "python",
   "nbconvert_exporter": "python",
   "pygments_lexer": "ipython3",
   "version": "3.10.9"
  }
 },
 "nbformat": 4,
 "nbformat_minor": 2
}
