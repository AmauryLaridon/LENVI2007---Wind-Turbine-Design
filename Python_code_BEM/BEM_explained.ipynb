{
 "cells": [
  {
   "cell_type": "markdown",
   "metadata": {},
   "source": [
    "---\n",
    "\n",
    "# Explanation of the Blade Element Theory (BEM) algorithm and Application on a 15MW Wind Turbine\n",
    "\n",
    "---\n",
    "\n",
    "**Author: Chung Anthony, Gouders Louis, Lambotte Augustin, Laridon Amaury**\n",
    "\n",
    "**Goal**: This notebook is used in order to understand and explain with our own cords the BEM algorithm delivered for the Wind Turbine Project of the LENVI2007 course. \n",
    "\n",
    "In this notebook we copy the BEM.py script writen by Romain Debroeyer and we seperate it into differents parts in order to explain step by step the main procedures. The main reference for explaining the BEM is the *AeroDyn Theory Manual* (Moriarty and Hansen 2005) textbook.\n",
    "\n",
    "---"
   ]
  },
  {
   "cell_type": "markdown",
   "metadata": {},
   "source": [
    "## What is the Blade Element Theory ? \n",
    "\n",
    "### Concept and goal\n",
    "\n",
    "The Blade Element Theory (BEM) is used to predict the aerodynamics of horizontal axis wind turbines and calculate the effect of wind turbine wakes. The method is also used to calculate the axial induced velocities from the wake in the rotor plane. BEM is the classical standard used by many wind turbine designers and is one of the oldest and most commonly used methods for calculating induced velocities on wind turbine blades.\n",
    "\n",
    "The BEM theory, generally attributed to Betz and Glauert (1935), actually originates from two different theories: blade element theory and momentum theory (see Leishman 2000). \n",
    "\n",
    "- Blade element theory assumes that blades can be divided into small elements that act independently of surrounding elements and operate aerodynamically as two-dimensional airfoils whose aerodynamic forces can be calculated based on the local flow conditions. These elemental forces are summed along the span of the blade to calculate the total forces and moments exerted on the turbine. \n",
    "\n",
    "- The other half of BEM, the momentum theory, assumes that the loss of pressure or momentum in the rotor plane is caused by the work done by the airflow passing through the rotor plane on the blade elements. Using the momentum theory, one can calculate the induced velocities from the momentum lost in the flow in the axial and tangential directions. These induced velocities affect the inflow in the rotor plane and therefore also affect the forces calculated by blade element theory. This coupling of two theories ties together blade element momentum theory and sets up an iterative process to determine the aerodynamic forces and also the induced velocities near the rotor\n",
    "\n",
    "The advantage of the BEM theory is that each blade element is modeled as a two-dimensional airfoil.\n",
    "\n",
    "### Limitations\n",
    "\n",
    "Because of its simplicity, BEM theory does have its limitations. \n",
    "\n",
    "- One primary assumption is that the calculations are static; it is assumed that the airflow field around the airfoil is always in equilibrium and that the passing flow accelerates instantaneously to adjust to the changes in the vorticity in the wake. In practice, it has been shown that the airfoil response takes time to adjust to a changing wake resulting from new inflow or turbine operating conditions (Snel and Schepers 1995).\n",
    "\n",
    "- One other limitation is that BEM theory breaks down when the blades experience large deflections out of the rotor plane. Because the theory assumes that momentum is balanced in a plane parallel to the rotor, any deflections of the rotor will lead to errors in the aerodynamic modeling.\n",
    "\n",
    "- Another limitation of BEM theory comes from blade element theory. This theory is based on the assumption that the forces acting on the blade element are essentially two-dimensional, meaning that spanwise flow is neglected. This assumption also implies that there is very little spanwise pressure variation (which would create spanwise flow), and the theory is therefore less accurate for heavily loaded rotors with large pressure gradients across the span.\n",
    "\n",
    "- Some other limitations of the original theory include no modeling of tip or hub vortex influence on the induced velocities and an inability to account for skewed inflow. These tip vortices create multiple helical structures in the wake and they play a major role in the induced velocity distribution at the rotor. The effect on induced velocity in the rotor plane is most pronounced near the tips of the blades, an area that also has the greatest influence on the power produced by the turbine.\n",
    "\n",
    "- Another limitation of the BEM theory is that when the induction factor is greater than about 0.4, the basic theory becomes invalid. This occurs with turbines operating at high tip speed ratios (e.g. constant speed turbine at low wind speeds), as the rotor enters what is known as the turbulent wake state $(a > 0.5).$\n",
    "\n",
    "\n",
    "---\n",
    "## Analysis and explanation of the BEM script\n",
    "Libraries "
   ]
  },
  {
   "cell_type": "code",
   "execution_count": 17,
   "metadata": {},
   "outputs": [],
   "source": [
    "# -*- coding: utf-8 -*-\n",
    "\"\"\"\n",
    "Created on November 15 2022\n",
    "\n",
    "@author: Romain Debroeyer\n",
    "\"\"\"\n",
    "\n",
    "import numpy as np\n",
    "import scipy.interpolate as sp"
   ]
  },
  {
   "cell_type": "markdown",
   "metadata": {},
   "source": [
    "BEM function "
   ]
  },
  {
   "cell_type": "code",
   "execution_count": 18,
   "metadata": {},
   "outputs": [],
   "source": [
    "def BEM(U, Omega, pitch, r, twist, chord, B, airfoils):\n",
    "    \n",
    "    pitch *= np.pi / 180\n",
    "    n =  len(r)\n",
    "    \n",
    "    a = np.zeros(n)\n",
    "    ap = np.zeros(n)\n",
    "    \n",
    "    omega = 0.3\n",
    "    iter_max = 150\n",
    "    tol = 1e-12\n",
    "    \n",
    "    rho = 1.225\n",
    "    for i in range(n):\n",
    "        clinterp,cdinterp = getInterpolator(airfoils[i])\n",
    "        beta = twist[i] * np.pi / 180\n",
    "        \n",
    "        xk_1 = np.array((a[i],ap[i]))\n",
    "        iiter = 0\n",
    "        xnew = f(xk_1,U,Omega,r[i],B,chord[i],clinterp,cdinterp,beta,pitch)\n",
    "        xk = np.copy(xnew)\n",
    "        for j in (0,1):\n",
    "            xk[j] = (1-omega)*xk_1[j] + omega*xnew[j]\n",
    "            \n",
    "        while (abs(xk[0]-xk_1[0])>tol and abs(xk[1]-xk_1[1])>tol and iiter<iter_max):\n",
    "            xk_1 = np.copy(xk)\n",
    "            xnew = f(xk_1,U,Omega,r[i],B,chord[i],clinterp,cdinterp,beta,pitch)\n",
    "            for j in (0,1):\n",
    "                xk[j] = (1-omega)*xk_1[j] + omega*xnew[j]           \n",
    "            iiter = iiter + 1\n",
    "            \n",
    "        if(iiter==iter_max):\n",
    "            print('No convergence for airfoil ' + airfoils[i] +' at wind speed {:d} m/s - residual is {:.2e}'.format(U,max(abs(xk[0]-xk_1[0]),abs(xk[1]-xk_1[1]))))\n",
    "            xk[0] = 0\n",
    "            xk[1] = 0\n",
    "            \n",
    "        a[i] = xk[0]\n",
    "        ap[i] = xk[1]\n",
    "    dT = 4*np.pi*r*rho * U**2 * (1-a) * a\n",
    "    dQ = 4*np.pi*r**3*rho*U*(1-a)*ap*Omega\n",
    "    T = np.trapz(dT,r)\n",
    "    Q = np.trapz(dQ,r)\n",
    "\n",
    "    P = Omega * Q\n",
    "\n",
    "    return T,Q,P"
   ]
  },
  {
   "cell_type": "markdown",
   "metadata": {},
   "source": [
    "Solver"
   ]
  },
  {
   "cell_type": "code",
   "execution_count": 19,
   "metadata": {},
   "outputs": [],
   "source": [
    "\n",
    "def f(x,U,Omega,r,B,c,clinterp,cdinterp,beta,pitch):\n",
    "# system of equations to be solved\n",
    "# x[0] = a\n",
    "# x[1] = a'\n",
    "    y = np.copy(x)\n",
    "    yaxis = U * (1-x[0])\n",
    "    xaxis = Omega*r*(1+x[1])\n",
    "    phi  = np.arctan2(yaxis,xaxis)\n",
    "\n",
    "    alpha = phi - beta - pitch\n",
    "\n",
    "    cl = clinterp(alpha)\n",
    "    cd = cdinterp(alpha)\n",
    "    cN = cl*np.cos(phi)+cd*np.sin(phi)\n",
    "    cT = cl*np.sin(phi)-cd*np.cos(phi)\n",
    "    \n",
    "    V_res = np.sqrt((U*(1-x[0]))**2 + (Omega * r * (1+x[1]))**2)\n",
    "\n",
    "    dT = B * 0.5 * V_res**2 * (cl * np.cos(phi) + cd * np.sin(phi)) * c  # We omit rho and dr in these two equations, because they will be canceled out in the fraction below \n",
    "    dQ = B * 0.5 * V_res**2 * (cl * np.sin(phi) - cd * np.cos(phi)) * c * r\n",
    "\n",
    "    y[0] = dT / (4*np.pi*r*U**2*(1-x[0])) # rho and dr are absent from these two fractions, because they cancel out at the numerator and denominator\n",
    "    y[1] = dQ / (4*np.pi*r**3*U*(1-x[0])*Omega)\n",
    "\n",
    "    return y"
   ]
  },
  {
   "cell_type": "markdown",
   "metadata": {},
   "source": [
    "Interpolator"
   ]
  },
  {
   "cell_type": "code",
   "execution_count": 20,
   "metadata": {},
   "outputs": [],
   "source": [
    "def getInterpolator(airfoilName):\n",
    "    \"\"\"\n",
    "    \n",
    "    Parameters\n",
    "    ----------\n",
    "    airfoilName : String\n",
    "        Name of the airfoil - must correspond to the .dat filename of the polar, without the extension\n",
    "\n",
    "    Returns\n",
    "    -------\n",
    "    cl_interp : \n",
    "        interpolator for the lift coefficient. Its argument is the angle of attack (alpha) angle \n",
    "    cd_interp : TYPE\n",
    "        interpolator for the drag coefficient. Its argument is the angle of attack (alpha) angle \n",
    "\n",
    "    \"\"\"\n",
    "    f = open(airfoilName+\".dat\")    \n",
    "    lines = f.readlines()    \n",
    "\n",
    "    angle = np.zeros(0)\n",
    "    cl = np.zeros(0)\n",
    "    cd = np.zeros(0)\n",
    "\n",
    "    index = 0\n",
    "    startindex = 100    \n",
    "    for line in lines:\n",
    "        data = line.split()\n",
    "        if len(data) > 0 and data[0] == '-180.00':\n",
    "            startindex = index\n",
    "        if index >= startindex and len(data)>0:\n",
    "            \n",
    "            angle = np.append(angle,float(data[0])* np.pi/180) \n",
    "            cl = np.append(cl,float(data[1]))\n",
    "            cd = np.append(cd,float(data[2])) \n",
    "\n",
    "        index += 1\n",
    "    cl_interp = sp.interp1d(angle,cl)\n",
    "    cd_interp = sp.interp1d(angle,cd)\n",
    "    \n",
    "    return cl_interp,cd_interp"
   ]
  },
  {
   "cell_type": "markdown",
   "metadata": {},
   "source": [
    "Other function"
   ]
  },
  {
   "cell_type": "code",
   "execution_count": 21,
   "metadata": {},
   "outputs": [],
   "source": [
    "def clcd(clinterp,cdinterp,alpha):\n",
    "    return clinterp(alpha),cdinterp(alpha)"
   ]
  },
  {
   "cell_type": "markdown",
   "metadata": {},
   "source": [
    "---\n",
    "\n",
    "## Application example on a NREL 5MW Wind Turbine\n",
    "\n",
    "Script from Romain Debroeyer\n",
    "\n",
    "---"
   ]
  },
  {
   "cell_type": "code",
   "execution_count": 22,
   "metadata": {},
   "outputs": [],
   "source": [
    "#!/usr/bin/env python3\n",
    "# -*- coding: utf-8 -*-\n",
    "\"\"\"\n",
    "Created on November 15 2022\n",
    "\n",
    "@author: Romain Debroeyer\n",
    "\"\"\"\n",
    "\n",
    "import matplotlib.pyplot as plt"
   ]
  },
  {
   "cell_type": "code",
   "execution_count": 23,
   "metadata": {},
   "outputs": [
    {
     "name": "stdout",
     "output_type": "stream",
     "text": [
      "No convergence for airfoil NACA64_A17 at wind speed 3 m/s - residual is 5.35e-02\n",
      "No convergence for airfoil NACA64_A17 at wind speed 3 m/s - residual is 4.90e-01\n",
      "No convergence for airfoil NACA64_A17 at wind speed 3 m/s - residual is 2.88e-01\n",
      "No convergence for airfoil NACA64_A17 at wind speed 3 m/s - residual is 5.64e-01\n",
      "No convergence for airfoil NACA64_A17 at wind speed 3 m/s - residual is 5.61e-01\n",
      "No convergence for airfoil NACA64_A17 at wind speed 3 m/s - residual is 2.95e-01\n",
      "24.279383850618196\n",
      "No convergence for airfoil NACA64_A17 at wind speed 4 m/s - residual is 2.29e-02\n",
      "No convergence for airfoil NACA64_A17 at wind speed 4 m/s - residual is 2.69e-01\n",
      "No convergence for airfoil NACA64_A17 at wind speed 4 m/s - residual is 1.01e-01\n",
      "No convergence for airfoil NACA64_A17 at wind speed 4 m/s - residual is 4.67e-01\n",
      "No convergence for airfoil NACA64_A17 at wind speed 4 m/s - residual is 1.63e-01\n",
      "109.6970545253914\n",
      "No convergence for airfoil NACA64_A17 at wind speed 5 m/s - residual is 7.40e-03\n",
      "No convergence for airfoil NACA64_A17 at wind speed 5 m/s - residual is 2.23e-02\n",
      "354.95826080057736\n",
      "805.9401901769811\n",
      "1322.258862511931\n",
      "1978.1125968935173\n",
      "2815.6015731812467\n",
      "3864.180106034822\n",
      "5098.691015317908\n",
      "5480.8474898225495\n",
      "5409.085968207343\n",
      "5366.484231830029\n",
      "5376.680984002273\n",
      "5368.741684011705\n",
      "5372.588723250729\n",
      "5390.468038663648\n",
      "5398.503517731672\n",
      "5421.966081787464\n",
      "5405.565168221594\n",
      "5322.038794262553\n",
      "5148.767291382309\n",
      "5008.317891721336\n",
      "4885.622084702855\n"
     ]
    },
    {
     "data": {
      "text/plain": [
       "Text(0, 0.5, '$P$ $[kW]$')"
      ]
     },
     "execution_count": 23,
     "metadata": {},
     "output_type": "execute_result"
    },
    {
     "data": {
      "image/png": "[encoded data removed]",
      "text/plain": [
       "<Figure size 640x480 with 1 Axes>"
      ]
     },
     "metadata": {},
     "output_type": "display_data"
    }
   ],
   "source": [
    "# global parameters of the turbine \n",
    "U = np.array([3,4,5,6,7, 8, 9, 10, 11, 12, 13, 14, 15, 16, 17, 18, 19, 20, 21, 22, 23, 24, 25]  )\n",
    "rpm = np.array([7, 7.2, 7.5, 8, 8.5, 9.1, 10.2, 11.4, 11.9, 12.1, 12.1, 12.1, 12.1, 12.1, 12.1, 12.1, 12.1, 12.1, 12.1, 12.1, 12.1, 12.1, 12.1 ])\n",
    "pitch = np.array([0, 0, 0, 0, 0, 0, 0, 0, 0, 3.83, 6.60, 8.70, 10.45, 12.06, 13.54, 14.92, 16.23, 17.47, 18.70, 19.94, 21.18, 22.35, 23.47])\n",
    "Omega = rpm * 2 * np.pi/60\n",
    "\n",
    "# blade data  \n",
    "B = 3\n",
    "r =  np.array([2.8667,5.6,8.3333,11.75,15.85,19.95,24.05,28.15,32.25,36.35,40.45,44.55,48.65,52.75,56.1667,58.9,61.6333])\n",
    "twist =  np.array([13.308,13.308,13.308,13.308,11.48,10.162,9.011,7.795,6.544,5.361,4.188,3.125,2.319,1.526,0.863,0.37,0.106])\n",
    "chord =  np.array([3.542,3.854,4.167,4.557,4.652,4.458,4.249,4.007,3.748,3.502,3.256,3.01,2.764,2.518,2.313,2.086,1.419])\n",
    "\n",
    "airfoils = [\"Cylinder1\",\"Cylinder1\",\"Cylinder2\",\"DU40_A17\",\"DU35_A17\",\"DU35_A17\",\"DU30_A17\",\"DU25_A17\",\"DU25_A17\",\"DU21_A17\",\"DU21_A17\",\"NACA64_A17\",\"NACA64_A17\",\"NACA64_A17\",\"NACA64_A17\",\"NACA64_A17\",\"NACA64_A17\"]\n",
    "\n",
    "N = len(U)\n",
    "P = np.zeros(N)\n",
    "for k in range(N):\n",
    "    _,_,P[k] = BEM(U[k],Omega[k],pitch[k],r,twist,chord,B,airfoils)\n",
    "    print(P[k]*1e-3)\n",
    "\n",
    "plt.figure('P')\n",
    "plt.plot(U, P*1e-3)\n",
    "plt.xlim([0,25])\n",
    "plt.ylim([0,6000])\n",
    "plt.xlabel(r\"$U$ $[m/s]$\")\n",
    "plt.ylabel(r\"$P$ $[kW]$\")"
   ]
  },
  {
   "cell_type": "markdown",
   "metadata": {},
   "source": [
    "---\n",
    "\n",
    "## Application of the BEM on a 15MW Wind Turbine\n",
    "\n",
    "--- \n",
    "\n",
    "### Estimation of the torque and power of the 15MW Turbine at selected wind speeds and look at the induction factors obtained"
   ]
  },
  {
   "cell_type": "code",
   "execution_count": null,
   "metadata": {},
   "outputs": [],
   "source": []
  },
  {
   "cell_type": "markdown",
   "metadata": {},
   "source": [
    "### Comparaison between calculated values with the actual torque/power curves "
   ]
  },
  {
   "cell_type": "code",
   "execution_count": null,
   "metadata": {},
   "outputs": [],
   "source": []
  },
  {
   "cell_type": "markdown",
   "metadata": {},
   "source": [
    "#### Comment on hypothesis and simplifications"
   ]
  },
  {
   "cell_type": "code",
   "execution_count": null,
   "metadata": {},
   "outputs": [],
   "source": []
  }
 ],
 "metadata": {
  "kernelspec": {
   "display_name": "Python 3",
   "language": "python",
   "name": "python3"
  },
  "language_info": {
   "codemirror_mode": {
    "name": "ipython",
    "version": 3
   },
   "file_extension": ".py",
   "mimetype": "text/x-python",
   "name": "python",
   "nbconvert_exporter": "python",
   "pygments_lexer": "ipython3",
   "version": "3.10.8"
  }
 },
 "nbformat": 4,
 "nbformat_minor": 2
}
